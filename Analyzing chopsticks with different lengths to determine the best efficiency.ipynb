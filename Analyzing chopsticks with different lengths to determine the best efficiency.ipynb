{
 "cells": [
  {
   "cell_type": "markdown",
   "metadata": {},
   "source": [
    "## Analyzing data using Object-oriented Programming (OOP)\n",
    "A group of Chinese researchers are curious to find out what the ideal length of chopsticks for a selected group of 30 people. There are 3 columns in this dataset:\n",
    "- \"Food pinching efficiency\" - measures on effective of the chopsticks\n",
    "- \"Individual\" - identification of each person who participated the study\n",
    "- \"Chopstick length\" - measures the length of the chopsticks in millimeter\n",
    "J"
   ]
  },
  {
   "cell_type": "code",
   "execution_count": 37,
   "metadata": {},
   "outputs": [
    {
     "data": {
      "text/plain": [
       "[['19.55', '1', '180'],\n",
       " ['27.24', '2', '180'],\n",
       " ['28.76', '3', '180'],\n",
       " ['31.19', '4', '180'],\n",
       " ['21.91', '5', '180']]"
      ]
     },
     "execution_count": 37,
     "metadata": {},
     "output_type": "execute_result"
    }
   ],
   "source": [
    "import numpy as np\n",
    "import pandas as pd\n",
    "import csv\n",
    "f = open(\"data/chopsticks.csv\", 'r')\n",
    "data = list(csv.reader(f))\n",
    "data = data[1:]\n",
    "data[0:5]"
   ]
  },
  {
   "cell_type": "markdown",
   "metadata": {},
   "source": [
    "Since we are comparing the efficiency of chopsticks of different lengths, we would want to group the same-length chopsticks into one category and compare it to others. In order to achieve that, we'll create a class (named Trial) that stores information about each row of the data."
   ]
  },
  {
   "cell_type": "markdown",
   "metadata": {},
   "source": [
    "## Declaring the attribute class\n",
    "To create the blueprint of how to navigate the information in the dataset."
   ]
  },
  {
   "cell_type": "code",
   "execution_count": 44,
   "metadata": {},
   "outputs": [],
   "source": [
    "class Trial(object):\n",
    "    def __init__(self, row):\n",
    "        try:\n",
    "            self.efficiency = float(row[0])\n",
    "            self.individual = int(row[1])\n",
    "            self.length = int(row[2])\n",
    "        except ValueError: #force the entry if there is an error\n",
    "            self.efficiency = -1.0\n",
    "            self.individual = -1\n",
    "            self.chopstick_length = -1\n",
    "        \n",
    "#Initiating the first row of data\n",
    "first_trial = Trial(data[1])"
   ]
  },
  {
   "cell_type": "markdown",
   "metadata": {},
   "source": [
    "## Declaring the manager class \n",
    "To create the blueprint to manipulate the grouping and to control the behaviors of the data.\n",
    "We are grouping all the chopstick information by lengths."
   ]
  },
  {
   "cell_type": "markdown",
   "metadata": {},
   "source": [
    "Refining the Chopstick class to store all the trials of a certain length, so when an amount is passed in the class, all the data pertaining the chopsticks with that length will be stored in one list."
   ]
  },
  {
   "cell_type": "code",
   "execution_count": 39,
   "metadata": {},
   "outputs": [],
   "source": [
    "class Chopstick(object):\n",
    "    def __init__(self, length):\n",
    "        self.length = length\n",
    "        # Start our trial list empty\n",
    "        self.trials = []\n",
    "        # Now, fill our list with relevant trials\n",
    "        for row in data:\n",
    "            if int(row[2]) == self.length:\n",
    "                trial = Trial(row)\n",
    "                if trial.efficiency != -1 and trial.individual != -1 and trial.chopstick_length != 1:\n",
    "                    self.trials.append(Trial(row))\n",
    "\n",
    "#Initiating the class with a length of 240\n",
    "medium_chopstick = Chopstick(240)\n"
   ]
  },
  {
   "cell_type": "markdown",
   "metadata": {},
   "source": [
    "## Adding the feature to calculate efficiency in the Chopstick class"
   ]
  },
  {
   "cell_type": "code",
   "execution_count": 47,
   "metadata": {},
   "outputs": [
    {
     "name": "stdout",
     "output_type": "stream",
     "text": [
      "25.4838709677\n"
     ]
    }
   ],
   "source": [
    "import math\n",
    "class Chopstick(object):\n",
    "    def __init__(self, length):\n",
    "        self.length = length\n",
    "        self.trials = []\n",
    "        \n",
    "        for row in data:\n",
    "            if int(row[2]) == self.length:\n",
    "                trial = Trial(row)\n",
    "                if trial.efficiency!=-1 and trial.individual!=-1 and trial.length!=1:\n",
    "                    self.trials.append(Trial(row))\n",
    "                \n",
    "    #writing a method that counts the number of chopsticks with that length\n",
    "    def num_trials(self):\n",
    "        return len(self.trials)\n",
    "    \n",
    "    #writing a methdo that calculates the average efficiency of chopsticks with that length\n",
    "    def avg_efficiency(self):\n",
    "        try:\n",
    "            return math.fsum([row.efficiency for row in self.trials]) / self.num_trials()\n",
    "        except:\n",
    "            return -1\n",
    "#Initiating the class to calculate the average efficiency of chopsticks 210mm long in avg_eff_210\n",
    "avg_eff_210 = Chopstick(210).avg_efficiency()\n",
    "print(avg_eff_210)"
   ]
  },
  {
   "cell_type": "markdown",
   "metadata": {},
   "source": [
    "Finding out each unique value of the length of the chopsticks in the dataset and initiate each into the class Chopstick."
   ]
  },
  {
   "cell_type": "code",
   "execution_count": 53,
   "metadata": {},
   "outputs": [
    {
     "name": "stdout",
     "output_type": "stream",
     "text": [
      "[330, 300, 270, 240, 210, 180]\n"
     ]
    }
   ],
   "source": [
    "chopstick_lengths = list(set([int(row[2]) for row in data]))\n",
    "print(chopstick_lengths)"
   ]
  },
  {
   "cell_type": "code",
   "execution_count": 55,
   "metadata": {},
   "outputs": [],
   "source": [
    "chopstick_list = [Chopstick(c) for c in chopstick_lengths]"
   ]
  },
  {
   "cell_type": "markdown",
   "metadata": {},
   "source": [
    "## Overloading the comparison operators for the Chopstick class so we can take advantage of built-in Python functions"
   ]
  },
  {
   "cell_type": "code",
   "execution_count": 66,
   "metadata": {},
   "outputs": [],
   "source": [
    "import math\n",
    "class Chopstick(object):\n",
    "    def __init__(self, length):\n",
    "        self.length = length\n",
    "        self.trials = []\n",
    "        \n",
    "        for row in data:\n",
    "            if int(row[2]) == self.length:\n",
    "                trial = Trial(row)\n",
    "                if trial.efficiency!=-1 and trial.individual!=-1 and trial.length!=1:\n",
    "                    self.trials.append(Trial(row))\n",
    "    \n",
    "    def __str__(self):\n",
    "        return self.length\n",
    "                \n",
    "    def num_trials(self):\n",
    "        return len(self.trials)\n",
    "    \n",
    "    def avg_efficiency(self):\n",
    "        try:\n",
    "            return math.fsum([row.efficiency for row in self.trials]) / self.num_trials()\n",
    "        except:\n",
    "            return -1\n",
    "    \n",
    "        \n",
    "    #Adding the comparison operators overloads\n",
    "    def __lt__(self, other):\n",
    "        return self.avg_efficiency < other.avg_efficiency\n",
    "    def __gt__(self, other):\n",
    "        return self.avg_efficiency > other.avg_efficiency\n",
    "    def __le__(self, other):\n",
    "        return self.avg_efficiency <= other.avg_efficiency\n",
    "    def __ge__(self, other):\n",
    "        return self.avg_efficiency >= other.avg_efficiency\n",
    "    def __eq__(self, other):\n",
    "        return self.avg_efficiency == other.avg_efficiency\n",
    "    def __ne__(self, other):\n",
    "        return self.avg_efficiency != other.avg_efficiency\n"
   ]
  },
  {
   "cell_type": "code",
   "execution_count": 68,
   "metadata": {},
   "outputs": [
    {
     "data": {
      "text/plain": [
       "240"
      ]
     },
     "execution_count": 68,
     "metadata": {},
     "output_type": "execute_result"
    }
   ],
   "source": [
    "#Find out the most efficient length of chopstick\n",
    "most_efficient = max(chopstick_list)\n",
    "most_efficient.length"
   ]
  },
  {
   "cell_type": "code",
   "execution_count": 69,
   "metadata": {},
   "outputs": [
    {
     "data": {
      "text/plain": [
       "270"
      ]
     },
     "execution_count": 69,
     "metadata": {},
     "output_type": "execute_result"
    }
   ],
   "source": [
    "#Find out the least efficient length of chopstick\n",
    "least_efficient = min(chopstick_list)\n",
    "least_efficient.length"
   ]
  },
  {
   "cell_type": "code",
   "execution_count": null,
   "metadata": {},
   "outputs": [],
   "source": []
  },
  {
   "cell_type": "code",
   "execution_count": null,
   "metadata": {},
   "outputs": [],
   "source": []
  }
 ],
 "metadata": {
  "kernelspec": {
   "display_name": "Python [conda env:Anaconda3]",
   "language": "python",
   "name": "conda-env-Anaconda3-py"
  },
  "language_info": {
   "codemirror_mode": {
    "name": "ipython",
    "version": 2
   },
   "file_extension": ".py",
   "mimetype": "text/x-python",
   "name": "python",
   "nbconvert_exporter": "python",
   "pygments_lexer": "ipython2",
   "version": "2.7.15"
  }
 },
 "nbformat": 4,
 "nbformat_minor": 2
}
