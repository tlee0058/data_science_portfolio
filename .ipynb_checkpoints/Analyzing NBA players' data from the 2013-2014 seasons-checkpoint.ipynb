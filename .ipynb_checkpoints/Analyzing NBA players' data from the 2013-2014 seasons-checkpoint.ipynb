{
 "cells": [
  {
   "cell_type": "markdown",
   "metadata": {},
   "source": [
    "## Analyzing Data with Object-oriented programming (OOP)\n",
    "The dataset consists of the following columns:\n",
    "- \"player\" - the name of each player\n",
    "- \"pos\" - the position of each player\n",
    "- \"age\" - the age of each player\n",
    "- \"team\" - the team taht each player belongs to\n",
    "\n"
   ]
  },
  {
   "cell_type": "code",
   "execution_count": 4,
   "metadata": {},
   "outputs": [
    {
     "data": {
      "text/plain": [
       "[['Quincy Acy',\n",
       "  'SF',\n",
       "  '23',\n",
       "  'TOT',\n",
       "  '63',\n",
       "  '0',\n",
       "  '847',\n",
       "  '66',\n",
       "  '141',\n",
       "  '0.468',\n",
       "  '4',\n",
       "  '15',\n",
       "  '0.266666666666667',\n",
       "  '62',\n",
       "  '126',\n",
       "  '0.492063492063492',\n",
       "  '0.482',\n",
       "  '35',\n",
       "  '53',\n",
       "  '0.66',\n",
       "  '72',\n",
       "  '144',\n",
       "  '216',\n",
       "  '28',\n",
       "  '23',\n",
       "  '26',\n",
       "  '30',\n",
       "  '122',\n",
       "  '171',\n",
       "  '2013-2014',\n",
       "  '2013']]"
      ]
     },
     "execution_count": 4,
     "metadata": {},
     "output_type": "execute_result"
    }
   ],
   "source": [
    "import csv\n",
    "import numpy as np\n",
    "f = open(\"data/nba_players_2013.csv\", 'r')\n",
    "data = list(csv.reader(f))[1:]\n",
    "data[0:1]"
   ]
  },
  {
   "cell_type": "markdown",
   "metadata": {},
   "source": [
    "## Declaring the attribute class of the players\n",
    "I'll organize the data in a way that I can compare the average ages of the players on each team by initiating a Player class. This is a blueprint of how I assess each data."
   ]
  },
  {
   "cell_type": "code",
   "execution_count": 9,
   "metadata": {},
   "outputs": [
    {
     "data": {
      "text/plain": [
       "'Quincy Acy'"
      ]
     },
     "execution_count": 9,
     "metadata": {},
     "output_type": "execute_result"
    }
   ],
   "source": [
    "class Player(object):\n",
    "    def __init__(self, row):\n",
    "        self.name = row[0]\n",
    "        self.pos = row[1]\n",
    "        self.age = float(row[2])\n",
    "        self.team = row[3]\n",
    "        \n",
    "#Instantiating the first row of data\n",
    "first_player = Player(data[0])\n",
    "first_player.name"
   ]
  },
  {
   "cell_type": "markdown",
   "metadata": {},
   "source": [
    "## Declaring the manager class of the players\n",
    "I created the Team class to store the player information for each team"
   ]
  },
  {
   "cell_type": "code",
   "execution_count": 10,
   "metadata": {},
   "outputs": [],
   "source": [
    "class Team(object):\n",
    "    def __init__(self, team_name):\n",
    "        self.team_name = team_name\n",
    "        self.roster = []\n",
    "        for row in data:\n",
    "            if row[3] == team_name:\n",
    "                self.roster.append(Player(row))\n",
    "                      "
   ]
  },
  {
   "cell_type": "markdown",
   "metadata": {},
   "source": [
    "Adding methods to calculate the number of players and average of players' age in that roster"
   ]
  },
  {
   "cell_type": "code",
   "execution_count": 12,
   "metadata": {},
   "outputs": [
    {
     "data": {
      "text/plain": [
       "28.428571428571427"
      ]
     },
     "execution_count": 12,
     "metadata": {},
     "output_type": "execute_result"
    }
   ],
   "source": [
    "import math\n",
    "class Team(object):\n",
    "    def __init__(self, team_name):\n",
    "        self.team_name = team_name\n",
    "        self.roster = []\n",
    "        for row in data:\n",
    "            if row[3] == team_name:\n",
    "                self.roster.append(Player(row))\n",
    "                \n",
    "    #Adding a method to count the number of players in that roster.\n",
    "    def count_sum(self):\n",
    "        counter = 0\n",
    "        for player in self.roster:\n",
    "            counter += 1\n",
    "        return counter\n",
    "    \n",
    "    #Adding a method to count the average of the players' age\n",
    "    def avg_age(self):\n",
    "        return float(math.fsum([player.age for player in self.roster])/self.count_sum())\n",
    "    \n",
    "#Instantiating a team\n",
    "spurs = Team(\"San Antonio Spurs\")\n",
    "spurs_num_players = spurs.count_sum()\n",
    "spurs_avg_age = spurs.avg_age()\n",
    "spurs_avg_age"
   ]
  },
  {
   "cell_type": "markdown",
   "metadata": {},
   "source": [
    "## Adding a new class method within the Team class\n",
    "To compare the ages among teams"
   ]
  },
  {
   "cell_type": "code",
   "execution_count": 16,
   "metadata": {},
   "outputs": [
    {
     "data": {
      "text/plain": [
       "'Miami Heat'"
      ]
     },
     "execution_count": 16,
     "metadata": {},
     "output_type": "execute_result"
    }
   ],
   "source": [
    "import math\n",
    "class Team(object):\n",
    "    def __init__(self, team_name):\n",
    "        self.team_name = team_name\n",
    "        self.roster = []\n",
    "        for row in data:\n",
    "            if row[3] == team_name:\n",
    "                self.roster.append(Player(row))\n",
    "                \n",
    "    def count_sum(self):\n",
    "        counter = 0\n",
    "        for player in self.roster:\n",
    "            counter += 1\n",
    "        return counter\n",
    "    \n",
    "    def avg_age(self):\n",
    "        return float(math.fsum([player.age for player in self.roster])/self.count_sum())\n",
    "    \n",
    "    @classmethod #adding the tag to add a class method\n",
    "    def older_team(self, team1, team2):\n",
    "        if team1.avg_age < team2.avg_age:\n",
    "            return team2\n",
    "        else:\n",
    "            return team1\n",
    "        \n",
    "#Instantiating the new class method to compare which team's players are older\n",
    "older_team = Team.older_team(Team(\"New York Knicks\"), Team(\"Miami Heat\"))\n",
    "older_team.team_name"
   ]
  },
  {
   "cell_type": "markdown",
   "metadata": {},
   "source": [
    "## Adding inheritance class to compare teams\n",
    "Adding comparison operators overloading"
   ]
  },
  {
   "cell_type": "code",
   "execution_count": 18,
   "metadata": {},
   "outputs": [
    {
     "data": {
      "text/plain": [
       "'Utah Jazz'"
      ]
     },
     "execution_count": 18,
     "metadata": {},
     "output_type": "execute_result"
    }
   ],
   "source": [
    "import math\n",
    "class Team(object):\n",
    "    def __init__(self, team_name):\n",
    "        self.team_name = team_name\n",
    "        self.roster = []\n",
    "        for row in data:\n",
    "            if row[3] == team_name:\n",
    "                self.roster.append(Player(row))\n",
    "                \n",
    "    def count_sum(self):\n",
    "        counter = 0\n",
    "        for player in self.roster:\n",
    "            counter += 1\n",
    "        return counter\n",
    "    \n",
    "    def avg_age(self):\n",
    "        return float(math.fsum([player.age for player in self.roster])/self.count_sum())\n",
    "    \n",
    "    @classmethod #adding the tag to add a class method\n",
    "    def older_team(self, team1, team2):\n",
    "        if team1.avg_age < team2.avg_age:\n",
    "            return team2\n",
    "        else:\n",
    "            return team1\n",
    "        \n",
    "    def __lt__(self, other):\n",
    "        return self.avg_age() < other.avg_age()\n",
    "    def __gt__(self, other):\n",
    "        return self.avg_age() > other.avg_age()\n",
    "    def __le__(self, other):\n",
    "        return self.avg_age() <= other.avg_age()\n",
    "    def __ge__(self, other):\n",
    "        return self.avg_age() >= other.avg_age()\n",
    "    def __eq__(self, other):\n",
    "        return self.avg_age() == other.avg_age()\n",
    "    def __ne__(self, other):\n",
    "        return self.avg_age() != other.avg_age()\n",
    "    \n",
    "#Comparing 2 team to see which team has older players\n",
    "jazz = Team(\"Utah Jazz\")\n",
    "pistons = Team(\"Detroit Pistons\")\n",
    "older_team = max(jazz, pistons)\n",
    "older_team.team_name"
   ]
  },
  {
   "cell_type": "code",
   "execution_count": 19,
   "metadata": {},
   "outputs": [],
   "source": [
    "#Comparing a list of teams\n",
    "team_names = [\"Boston Celtics\", \"Brooklyn Nets\", \"New York Knicks\", \"Philadelphia 76ers\", \"Toronto Raptors\", \n",
    "         \"Chicago Bulls\", \"Cleveland Cavaliers\", \"Detroit Pistons\", \"Indiana Pacers\", \"Milwaukee Bucks\",\n",
    "         \"Atlanta Hawks\", \"Charlotte Hornets\", \"Miami Heat\", \"Orlando Magic\", \"Washington Wizards\",\n",
    "         \"Dallas Mavericks\", \"Houston Rockets\", \"Memphis Grizzlies\", \"New Orleans Pelicans\", \"San Antonio Spurs\",\n",
    "         \"Denver Nuggets\", \"Minnesota Timberwolves\", \"Oklahoma City Thunder\", \"Portland Trail Blazers\", \"Utah Jazz\",\n",
    "         \"Golden State Warriors\", \"Los Angeles Clippers\", \"Los Angeles Lakers\", \"Phoenix Suns\", \"Sacramento Kings\"]\n",
    "team_list = [Team(t) for t in team_names]\n"
   ]
  },
  {
   "cell_type": "code",
   "execution_count": 20,
   "metadata": {},
   "outputs": [
    {
     "data": {
      "text/plain": [
       "'Miami Heat'"
      ]
     },
     "execution_count": 20,
     "metadata": {},
     "output_type": "execute_result"
    }
   ],
   "source": [
    "#Find out the oldest team\n",
    "oldest_team = max(team_list)\n",
    "oldest_team.team_name"
   ]
  },
  {
   "cell_type": "code",
   "execution_count": 21,
   "metadata": {},
   "outputs": [
    {
     "data": {
      "text/plain": [
       "'Philadelphia 76ers'"
      ]
     },
     "execution_count": 21,
     "metadata": {},
     "output_type": "execute_result"
    }
   ],
   "source": [
    "#Find out the youngest team\n",
    "youngest_team = min(team_list)\n",
    "youngest_team.team_name"
   ]
  },
  {
   "cell_type": "code",
   "execution_count": 24,
   "metadata": {},
   "outputs": [
    {
     "data": {
      "text/plain": [
       "['Miami Heat',\n",
       " 'Brooklyn Nets',\n",
       " 'Chicago Bulls',\n",
       " 'Los Angeles Clippers',\n",
       " 'San Antonio Spurs',\n",
       " 'New York Knicks',\n",
       " 'Dallas Mavericks',\n",
       " 'Indiana Pacers',\n",
       " 'Los Angeles Lakers',\n",
       " 'Memphis Grizzlies',\n",
       " 'Oklahoma City Thunder',\n",
       " 'Atlanta Hawks',\n",
       " 'Golden State Warriors',\n",
       " 'Washington Wizards',\n",
       " 'Minnesota Timberwolves',\n",
       " 'Utah Jazz',\n",
       " 'Phoenix Suns',\n",
       " 'Charlotte Hornets',\n",
       " 'Detroit Pistons',\n",
       " 'Portland Trail Blazers',\n",
       " 'New Orleans Pelicans',\n",
       " 'Denver Nuggets',\n",
       " 'Boston Celtics',\n",
       " 'Toronto Raptors',\n",
       " 'Houston Rockets',\n",
       " 'Orlando Magic',\n",
       " 'Sacramento Kings',\n",
       " 'Milwaukee Bucks',\n",
       " 'Cleveland Cavaliers',\n",
       " 'Philadelphia 76ers']"
      ]
     },
     "execution_count": 24,
     "metadata": {},
     "output_type": "execute_result"
    }
   ],
   "source": [
    "#Sorting the team by age, descending\n",
    "sorted_team = sorted(team_list, reverse=True)\n",
    "sorted_team = [team.team_name for team in sorted_team]\n",
    "sorted_team"
   ]
  },
  {
   "cell_type": "code",
   "execution_count": null,
   "metadata": {},
   "outputs": [],
   "source": []
  }
 ],
 "metadata": {
  "kernelspec": {
   "display_name": "Python [conda env:Anaconda3]",
   "language": "python",
   "name": "conda-env-Anaconda3-py"
  },
  "language_info": {
   "codemirror_mode": {
    "name": "ipython",
    "version": 2
   },
   "file_extension": ".py",
   "mimetype": "text/x-python",
   "name": "python",
   "nbconvert_exporter": "python",
   "pygments_lexer": "ipython2",
   "version": "2.7.15"
  }
 },
 "nbformat": 4,
 "nbformat_minor": 2
}
